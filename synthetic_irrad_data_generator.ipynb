{
 "cells": [
  {
   "cell_type": "code",
   "execution_count": 1,
   "id": "4f14c1cb-67a5-4107-863e-d157901d478f",
   "metadata": {},
   "outputs": [],
   "source": [
    "import numpy as np\n",
    "from scipy.io import savemat"
   ]
  },
  {
   "cell_type": "code",
   "execution_count": 2,
   "id": "0e2010c3-9d80-46fe-b02c-90285cb9715f",
   "metadata": {},
   "outputs": [
    {
     "name": "stdout",
     "output_type": "stream",
     "text": [
      "Synthetic .sav file created successfully.\n"
     ]
    }
   ],
   "source": [
    "# Define the wavelength range and create synthetic data\n",
    "wavelengths = np.linspace(3300, 12500, 1000)  # 1000 wavelength points from 3300 Å to 12500 Å\n",
    "\n",
    "# Create synthetic solar irradiance data (this could be any function, here we'll use a simple sine wave for example)\n",
    "irradiance = np.sin(np.linspace(0, 20 * np.pi, 1000)) + 10  # Adding 10 to keep values positive\n",
    "\n",
    "# Combine into a 2D array, mimicking the structure: first row is wavelengths, second is irradiance\n",
    "irtotnl = np.vstack([wavelengths, irradiance])\n",
    "\n",
    "# Save to a .sav file using scipy's savemat function\n",
    "savemat('synthetic_irradiance.sav', {'irtotnl': irtotnl})\n",
    "\n",
    "print(\"Synthetic .sav file created successfully.\")"
   ]
  },
  {
   "cell_type": "code",
   "execution_count": null,
   "id": "7ab572e6-9c10-4a9d-b39f-0a68cf94ceb7",
   "metadata": {},
   "outputs": [],
   "source": []
  }
 ],
 "metadata": {
  "kernelspec": {
   "display_name": "Python 3 (ipykernel)",
   "language": "python",
   "name": "python3"
  },
  "language_info": {
   "codemirror_mode": {
    "name": "ipython",
    "version": 3
   },
   "file_extension": ".py",
   "mimetype": "text/x-python",
   "name": "python",
   "nbconvert_exporter": "python",
   "pygments_lexer": "ipython3",
   "version": "3.10.6"
  }
 },
 "nbformat": 4,
 "nbformat_minor": 5
}
